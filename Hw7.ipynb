{
 "cells": [
  {
   "cell_type": "markdown",
   "id": "2bcf62b5-1b58-4fa5-b781-d3b7b67b1099",
   "metadata": {},
   "source": [
    "# Домашнє завдання №7"
   ]
  },
  {
   "cell_type": "code",
   "execution_count": 14,
   "id": "cccd45af-b00f-42d2-a0e5-cc996421b376",
   "metadata": {
    "tags": []
   },
   "outputs": [],
   "source": [
    "import os\n",
    "from surprise import SVD, SVDpp, NMF\n",
    "from surprise import Dataset, accuracy\n",
    "from surprise.model_selection import cross_validate\n",
    "from surprise.model_selection import GridSearchCV\n",
    "\n",
    "new_data_folder = '/data/ml-100k'\n",
    "\n",
    "os.environ['SURPRISE_DATA_FOLDER'] = new_data_folder"
   ]
  },
  {
   "cell_type": "markdown",
   "id": "6f05105f-35f7-4f17-9adb-d3acb6447433",
   "metadata": {},
   "source": [
    "## Завантаження датасету"
   ]
  },
  {
   "cell_type": "code",
   "execution_count": 15,
   "id": "b67d8afe-40a2-4203-8c6a-4a9ab1f9ec5d",
   "metadata": {
    "tags": []
   },
   "outputs": [],
   "source": [
    "data = Dataset.load_builtin(\"ml-100k\")"
   ]
  },
  {
   "cell_type": "markdown",
   "id": "c7f3f23b-39fb-444a-8061-3f9bf8a96314",
   "metadata": {},
   "source": [
    "## Крос-валідація на моделі матричної факторизації SVD "
   ]
  },
  {
   "cell_type": "code",
   "execution_count": 20,
   "id": "7523b1df-b214-44a7-9c56-7c5e9340fc9b",
   "metadata": {
    "tags": []
   },
   "outputs": [
    {
     "name": "stdout",
     "output_type": "stream",
     "text": [
      "Evaluating RMSE, MAE of algorithm SVD on 5 split(s).\n",
      "\n",
      "                  Fold 1  Fold 2  Fold 3  Fold 4  Fold 5  Mean    Std     \n",
      "RMSE (testset)    0.9348  0.9320  0.9409  0.9293  0.9417  0.9357  0.0048  \n",
      "MAE (testset)     0.7382  0.7352  0.7412  0.7328  0.7404  0.7376  0.0032  \n",
      "Fit time          1.01    1.07    1.01    1.06    1.01    1.03    0.02    \n",
      "Test time         0.13    0.25    0.13    0.13    0.14    0.16    0.05    \n"
     ]
    },
    {
     "data": {
      "text/plain": [
       "{'test_rmse': array([0.93479872, 0.93198017, 0.94086687, 0.9293396 , 0.94165706]),\n",
       " 'test_mae': array([0.73818057, 0.73520526, 0.74121797, 0.73279338, 0.74036619]),\n",
       " 'fit_time': (1.0149726867675781,\n",
       "  1.065051555633545,\n",
       "  1.013838768005371,\n",
       "  1.0572257041931152,\n",
       "  1.0095582008361816),\n",
       " 'test_time': (0.12808656692504883,\n",
       "  0.24892354011535645,\n",
       "  0.12825894355773926,\n",
       "  0.13007187843322754,\n",
       "  0.14187026023864746)}"
      ]
     },
     "execution_count": 20,
     "metadata": {},
     "output_type": "execute_result"
    }
   ],
   "source": [
    "algo = SVD()\n",
    "\n",
    "cross_validate(algo, data, measures=[\"RMSE\", \"MAE\"], cv=5, verbose=True) "
   ]
  },
  {
   "cell_type": "markdown",
   "id": "d7a1cf6e-1556-471e-9b68-7f10a99782ec",
   "metadata": {},
   "source": [
    "### Результати крос-валідації для алгоритму SVD показують наступне:\n",
    "\n",
    "RMSE (середньо-квадратична помилка):\n",
    "Середнє значення: 0.9357\n",
    "Стандартне відхилення: 0.0034\n",
    "\n",
    "MAE (середня абсолютна помилка):\n",
    "Середнє значення: 0.7397\n",
    "Стандартне відхилення: 0.0021\n",
    "\n",
    "Час навчання (Fit time):\n",
    "Середнє значення: 1.00 сек\n",
    "Стандартне відхилення: 0.02 сек\n",
    "\n",
    "Час тестування (Test time):\n",
    "Середнє значення: 0.14 сек\n",
    "Стандартне відхилення: 0.05 сек\n",
    "\n",
    "Ці результати вказують на те, що модель SVD має досить низьке значення середньо-квадратичної та середньої абсолютної помилок, що вказує на гарну точність моделі при прогнозуванні рейтингів. Також, час навчання та тестування є прийнятними і не сильно відрізняються між підсумковими фолдами."
   ]
  },
  {
   "cell_type": "markdown",
   "id": "09575c4f-7376-485d-9a02-0dd76529ccef",
   "metadata": {},
   "source": [
    "## Крос-валідація на моделі матричної факторизації SVD++"
   ]
  },
  {
   "cell_type": "code",
   "execution_count": 17,
   "id": "4c0d85dc-b131-4a52-8d42-76ff0acb6a31",
   "metadata": {
    "tags": []
   },
   "outputs": [
    {
     "name": "stdout",
     "output_type": "stream",
     "text": [
      "Evaluating RMSE, MAE of algorithm SVDpp on 5 split(s).\n",
      "\n",
      "                  Fold 1  Fold 2  Fold 3  Fold 4  Fold 5  Mean    Std     \n",
      "RMSE (testset)    0.9154  0.9250  0.9122  0.9283  0.9197  0.9201  0.0059  \n",
      "MAE (testset)     0.7185  0.7269  0.7152  0.7285  0.7198  0.7218  0.0051  \n",
      "Fit time          14.81   15.65   15.70   15.65   15.63   15.49   0.34    \n",
      "Test time         3.36    3.23    3.22    3.31    3.56    3.34    0.12    \n"
     ]
    },
    {
     "data": {
      "text/plain": [
       "{'test_rmse': array([0.91538044, 0.92498127, 0.91219853, 0.92834249, 0.91972686]),\n",
       " 'test_mae': array([0.71845409, 0.72686011, 0.71524974, 0.72851987, 0.71976981]),\n",
       " 'fit_time': (14.808497428894043,\n",
       "  15.652542352676392,\n",
       "  15.697190284729004,\n",
       "  15.646104574203491,\n",
       "  15.62892770767212),\n",
       " 'test_time': (3.3582088947296143,\n",
       "  3.22511625289917,\n",
       "  3.221895456314087,\n",
       "  3.308344602584839,\n",
       "  3.5617623329162598)}"
      ]
     },
     "execution_count": 17,
     "metadata": {},
     "output_type": "execute_result"
    }
   ],
   "source": [
    "algo = SVDpp()\n",
    "\n",
    "cross_validate(algo, data, measures=[\"RMSE\", \"MAE\"], cv=5, verbose=True) "
   ]
  },
  {
   "cell_type": "markdown",
   "id": "4804505c-31dd-40cd-9a68-28ec424baf3e",
   "metadata": {},
   "source": [
    "### Результати крос-валідації для алгоритму SVDpp показують наступне:\n",
    "\n",
    "RMSE (середньо-квадратична помилка):\n",
    "Середнє значення: 0.9201\n",
    "Стандартне відхилення: 0.0059\n",
    "\n",
    "MAE (середня абсолютна помилка):\n",
    "Середнє значення: 0.7218\n",
    "Стандартне відхилення: 0.0051\n",
    "\n",
    "Час навчання (Fit time):\n",
    "Середнє значення: 15.49 сек\n",
    "Стандартне відхилення: 0.34 сек\n",
    "\n",
    "Час тестування (Test time):\n",
    "Середнє значення: 3.34 сек\n",
    "Стандартне відхилення: 0.12 сек\n",
    "\n",
    "Алгоритм SVDpp показує гарні результати з точки зору точності прогнозів, яка вимірюється RMSE та MAE. Відзначимо, що SVDpp має більший час навчання та тестування порівняно з SVD, оскільки SVDpp включає додаткові параметри та фактори, що призводить до більшої обчислювальної складності. Важливо збалансувати точність та часові витрати в залежності від конкретних вимог нашого застосування."
   ]
  },
  {
   "cell_type": "markdown",
   "id": "82231de2-d16f-4afe-9354-4dfffb2a2d2b",
   "metadata": {},
   "source": [
    "## Крос-валідація на моделі матричної факторизації NMF"
   ]
  },
  {
   "cell_type": "code",
   "execution_count": 18,
   "id": "5bccc972-f5bc-4ee4-b065-870bea554f06",
   "metadata": {
    "tags": []
   },
   "outputs": [
    {
     "name": "stdout",
     "output_type": "stream",
     "text": [
      "Evaluating RMSE, MAE of algorithm NMF on 5 split(s).\n",
      "\n",
      "                  Fold 1  Fold 2  Fold 3  Fold 4  Fold 5  Mean    Std     \n",
      "RMSE (testset)    0.9620  0.9602  0.9650  0.9616  0.9762  0.9650  0.0058  \n",
      "MAE (testset)     0.7545  0.7527  0.7574  0.7547  0.7699  0.7578  0.0062  \n",
      "Fit time          1.70    1.66    1.63    1.72    1.69    1.68    0.03    \n",
      "Test time         0.09    0.21    0.11    0.10    0.22    0.15    0.06    \n"
     ]
    },
    {
     "data": {
      "text/plain": [
       "{'test_rmse': array([0.96197606, 0.96024696, 0.96496364, 0.96161413, 0.97619127]),\n",
       " 'test_mae': array([0.75445083, 0.75272919, 0.75741301, 0.75471181, 0.76991412]),\n",
       " 'fit_time': (1.702500343322754,\n",
       "  1.6587278842926025,\n",
       "  1.632493257522583,\n",
       "  1.7172281742095947,\n",
       "  1.6923882961273193),\n",
       " 'test_time': (0.09220170974731445,\n",
       "  0.214949369430542,\n",
       "  0.10620474815368652,\n",
       "  0.09958100318908691,\n",
       "  0.21889567375183105)}"
      ]
     },
     "execution_count": 18,
     "metadata": {},
     "output_type": "execute_result"
    }
   ],
   "source": [
    "algo = NMF()\n",
    "\n",
    "cross_validate(algo, data, measures=[\"RMSE\", \"MAE\"], cv=5, verbose=True) "
   ]
  },
  {
   "cell_type": "markdown",
   "id": "59eb3233-aea8-43ad-89c5-bb63cbc06844",
   "metadata": {},
   "source": [
    "### Результати крос-валідації для алгоритму NMF (Non-Negative Matrix Factorization) показують наступне:\n",
    "\n",
    "RMSE (середньо-квадратична помилка):\n",
    "Середнє значення: 0.9650\n",
    "Стандартне відхилення: 0.0058\n",
    "\n",
    "MAE (середня абсолютна помилка):\n",
    "Середнє значення: 0.7578\n",
    "Стандартне відхилення: 0.0062\n",
    "\n",
    "Час навчання (Fit time):\n",
    "Середнє значення: 1.68 сек\n",
    "Стандартне відхилення: 0.03 сек\n",
    "\n",
    "Час тестування (Test time):\n",
    "Середнє значення: 0.15 сек\n",
    "Стандартне відхилення: 0.06 сек\n",
    "\n",
    "Алгоритм NMF також представляє певний рівень точності, але його значення RMSE та MAE трошки вищі порівняно з SVD та SVDpp. Важливо врахувати, що NMF використовує обмеження невід'ємності, що може бути корисним в деяких випадках, особливо якщо значення рейтингів не може бути від'ємним. Зате, час навчання та тестування для NMF є прийнятними."
   ]
  },
  {
   "cell_type": "markdown",
   "id": "ca4e0f3b-6946-4395-9530-4609b6b827bb",
   "metadata": {},
   "source": [
    "## Функція для підбору найкращих параметрів за допомогою крос-валідації"
   ]
  },
  {
   "cell_type": "code",
   "execution_count": 9,
   "id": "56aea7a4-277e-44d2-8cbf-8c24df2a4196",
   "metadata": {
    "tags": []
   },
   "outputs": [],
   "source": [
    "def model_evaluation(algo, param_grid):\n",
    "    print(f\"\\nAlgorithm: {algo.__name__}\")\n",
    "    \n",
    "    # Створення об'єкта GridSearchCV\n",
    "    grid_search = GridSearchCV(algo, param_grid, measures=['rmse', 'mae'], cv=3)\n",
    "    \n",
    "    # Запуск крос-валідації\n",
    "    grid_search.fit(data)\n",
    "    \n",
    "    # Виведення найкращих параметрів та результатів\n",
    "    print(f\"Best parameters: {grid_search.best_params}\")\n",
    "    print(f\"Best RMSE: {grid_search.best_score['rmse']:.4f}\")\n",
    "\n",
    "    # Оцінка моделі на весь набір даних (тренувальний та тестовий)\n",
    "    algo_instance = grid_search.best_estimator['rmse']\n",
    "    algo_instance.fit(data.build_full_trainset())\n",
    "    predictions = algo_instance.test(data.build_full_trainset().build_testset())\n",
    "    \n",
    "    # Оцінка моделі\n",
    "    print(f\"\\nTrainset Accuracy (RMSE): {accuracy.rmse(predictions):.4f}\")\n"
   ]
  },
  {
   "cell_type": "markdown",
   "id": "3caa5167-156e-48a4-84ad-ad9d6c9820ad",
   "metadata": {},
   "source": [
    "## Визначення найкращих параметрів моделі матричної факторизації SVD за допомогою крос-валідації"
   ]
  },
  {
   "cell_type": "code",
   "execution_count": 24,
   "id": "09b3e072-e672-41f7-a13c-a947351238f0",
   "metadata": {
    "tags": []
   },
   "outputs": [
    {
     "name": "stdout",
     "output_type": "stream",
     "text": [
      "\n",
      "Algorithm: SVD\n",
      "Best parameters: {'rmse': {'n_epochs': 10, 'lr_all': 0.005, 'reg_all': 0.2}, 'mae': {'n_epochs': 10, 'lr_all': 0.005, 'reg_all': 0.2}}\n",
      "Best RMSE: 0.9550\n",
      "RMSE: 0.9204\n",
      "\n",
      "Trainset Accuracy (RMSE): 0.9204\n"
     ]
    }
   ],
   "source": [
    "param_grid = {'n_epochs': [5, 10], 'lr_all': [0.002, 0.005],\n",
    "              'reg_all': [0.2, 0.4]}\n",
    "algo = SVD\n",
    "model_evaluation(algo, param_grid)"
   ]
  },
  {
   "cell_type": "code",
   "execution_count": 25,
   "id": "ac25db53-9449-4f2f-ae6b-15a6503102ef",
   "metadata": {
    "tags": []
   },
   "outputs": [
    {
     "name": "stdout",
     "output_type": "stream",
     "text": [
      "\n",
      "Algorithm: SVD\n",
      "Best parameters: {'rmse': {'n_epochs': 20, 'lr_all': 0.008, 'reg_all': 0.6}, 'mae': {'n_epochs': 20, 'lr_all': 0.008, 'reg_all': 0.6}}\n",
      "Best RMSE: 0.9680\n",
      "RMSE: 0.9493\n",
      "\n",
      "Trainset Accuracy (RMSE): 0.9493\n"
     ]
    }
   ],
   "source": [
    "param_grid = {'n_epochs': [15, 20], 'lr_all': [0.008, 0.011],\n",
    "              'reg_all': [0.6, 0.8]}\n",
    "algo = SVD\n",
    "model_evaluation(algo, param_grid)"
   ]
  },
  {
   "cell_type": "markdown",
   "id": "bdf392a7-2609-4dc4-83fd-d7580015e5a3",
   "metadata": {},
   "source": [
    "### Висновки: \n",
    "Найкращі параметри (Перший етап):\n",
    "\n",
    "Після першого етапу пошуку оптимальних параметрів за допомогою крос-валідації найкращі параметри для алгоритму SVD визначені як:\n",
    "\n",
    "n_epochs: 10\n",
    "lr_all: 0.005\n",
    "reg_all: 0.2\n",
    "\n",
    "Найкращий RMSE на цьому етапі: 0.9550\n",
    "\n",
    "Найкращі параметри (Другий етап):\n",
    "\n",
    "Після другого етапу пошуку оптимальних параметрів за допомогою крос-валідації найкращі параметри для алгоритму SVD були змінені на:\n",
    "\n",
    "n_epochs: 20\n",
    "lr_all: 0.008\n",
    "reg_all: 0.6\n",
    "\n",
    "Найкращий RMSE на цьому етапі: 0.9680\n",
    "\n",
    "На обох етапах найкращі параметри були використані для тренування моделі на повному тренувальному наборі даних, і її точність була оцінена на всьому наборі даних.\n",
    "Оцінка моделі на весь набір даних показала RMSE рівний 0.9204 на першому етапі та 0.9493 на другому етапі.\n",
    "\n",
    "Загалом, результати показують, що модель SVD показала гарні характеристики на обох етапах.\n",
    "Найкращі параметри можуть бути змінені під час налаштування моделі, і на цьому прикладі змінились після другого етапу.\n",
    "Значення RMSE на обох етапах є досить низькими, що свідчить про добру точність моделі у прогнозуванні рейтингів на всьому наборі даних.\n",
    "Таким чином, SVD із відповідними параметрами є ефективною моделлю для цього датасету, і вона може бути використана для рекомендаційного аналізу з задовільною точністю."
   ]
  },
  {
   "cell_type": "markdown",
   "id": "8555f1d4-6bae-486d-8550-2ee6c9f1e34f",
   "metadata": {},
   "source": [
    "## Визначення найкращих параметрів моделі матричної факторизації SVDpp за допомогою крос-валідації"
   ]
  },
  {
   "cell_type": "code",
   "execution_count": 26,
   "id": "b837a713-9bbc-4021-abc0-a34a00565ca9",
   "metadata": {
    "tags": []
   },
   "outputs": [
    {
     "name": "stdout",
     "output_type": "stream",
     "text": [
      "\n",
      "Algorithm: SVDpp\n",
      "Best parameters: {'rmse': {'n_epochs': 10, 'lr_all': 0.005, 'reg_all': 0.2}, 'mae': {'n_epochs': 10, 'lr_all': 0.005, 'reg_all': 0.2}}\n",
      "Best RMSE: 0.9537\n",
      "RMSE: 0.9287\n",
      "\n",
      "Trainset Accuracy (RMSE): 0.9287\n"
     ]
    }
   ],
   "source": [
    "param_grid = {'n_epochs': [5, 10], 'lr_all': [0.002, 0.005],\n",
    "              'reg_all': [0.2, 0.4]}\n",
    "algo = SVDpp\n",
    "model_evaluation(algo, param_grid)"
   ]
  },
  {
   "cell_type": "code",
   "execution_count": 27,
   "id": "eb1a533a-668c-4e8c-85ae-741756d58aeb",
   "metadata": {
    "tags": []
   },
   "outputs": [
    {
     "name": "stdout",
     "output_type": "stream",
     "text": [
      "\n",
      "Algorithm: SVDpp\n",
      "Best parameters: {'rmse': {'n_epochs': 20, 'lr_all': 0.008, 'reg_all': 0.6}, 'mae': {'n_epochs': 20, 'lr_all': 0.008, 'reg_all': 0.6}}\n",
      "Best RMSE: 0.9685\n",
      "RMSE: 0.9495\n",
      "\n",
      "Trainset Accuracy (RMSE): 0.9495\n"
     ]
    }
   ],
   "source": [
    "param_grid = {'n_epochs': [15, 20], 'lr_all': [0.008, 0.011],\n",
    "              'reg_all': [0.6, 0.8]}\n",
    "algo = SVDpp\n",
    "model_evaluation(algo, param_grid)"
   ]
  },
  {
   "cell_type": "markdown",
   "id": "da62386a-2735-4f47-87ff-9d5abedc46ab",
   "metadata": {},
   "source": [
    "### Висновки:\n",
    "Після першого етапу пошуку оптимальних параметрів за допомогою крос-валідації найкращі параметри для алгоритму SVD++ визначені як:\n",
    "\n",
    "n_epochs: 10\n",
    "lr_all: 0.005\n",
    "reg_all: 0.2\n",
    "\n",
    "Найкращий RMSE на цьому етапі: 0.9537\n",
    "\n",
    "Після другого етапу пошуку оптимальних параметрів за допомогою крос-валідації найкращі параметри для алгоритму SVD++ були змінені на:\n",
    "\n",
    "n_epochs: 20\n",
    "lr_all: 0.008\n",
    "reg_all: 0.6\n",
    "\n",
    "Найкращий RMSE на цьому етапі: 0.9685\n",
    "\n",
    "На обох етапах найкращі параметри були використані для тренування моделі на повному тренувальному наборі даних, і її точність була оцінена на всьому наборі даних.\n",
    "Оцінка моделі на весь набір даних показала RMSE рівний 0.9287 на першому етапі та 0.9495 на другому етапі.\n",
    "Висновки:\n",
    "\n",
    "Загалом, результати показують, що модель SVD++ показала гарні характеристики на обох етапах.\n",
    "Найкращі параметри можуть бути змінені під час налаштування моделі, і на цьому прикладі змінились після другого етапу.\n",
    "Значення RMSE на обох етапах є досить низькими, що свідчить про добру точність моделі у прогнозуванні рейтингів на всьому наборі даних.\n",
    "Таким чином, SVD++ із відповідними параметрами також є ефективною моделлю для цього датасету, і вона може бути використана для рекомендаційного аналізу з задовільною точністю."
   ]
  },
  {
   "cell_type": "markdown",
   "id": "a5585d93-e9f2-4e96-ba51-5bf4ca3d64a4",
   "metadata": {},
   "source": [
    "## Визначення найкращих параметрів моделі матричної факторизації NMF за допомогою крос-валідації"
   ]
  },
  {
   "cell_type": "code",
   "execution_count": 28,
   "id": "735aa30b-adfe-41e4-83e1-30d2f59202e3",
   "metadata": {
    "tags": []
   },
   "outputs": [
    {
     "name": "stdout",
     "output_type": "stream",
     "text": [
      "\n",
      "Algorithm: NMF\n",
      "Best parameters: {'rmse': {'n_factors': 20, 'n_epochs': 20, 'reg_pu': 0.1, 'reg_qi': 0.1, 'reg_bu': 0.04, 'reg_bi': 0.02}, 'mae': {'n_factors': 20, 'n_epochs': 20, 'reg_pu': 0.1, 'reg_qi': 0.1, 'reg_bu': 0.6, 'reg_bi': 0.6}}\n",
      "Best RMSE: 0.9909\n",
      "RMSE: 0.9043\n",
      "\n",
      "Trainset Accuracy (RMSE): 0.9043\n"
     ]
    }
   ],
   "source": [
    "param_grid = {'n_factors': [10, 20, 30],\n",
    "              'n_epochs': [5, 10, 20],\n",
    "              'reg_pu': [0.06, 0.08, 0.1],\n",
    "              'reg_qi': [0.06, 0.08, 0.1],\n",
    "              'reg_bu': [0.02, 0.04, 0.6],\n",
    "              'reg_bi': [0.02, 0.04, 0.6]}\n",
    "\n",
    "algo = NMF\n",
    "model_evaluation(algo, param_grid)"
   ]
  },
  {
   "cell_type": "markdown",
   "id": "9e632e53-ab38-4c51-9475-dda54d4a3a00",
   "metadata": {},
   "source": [
    "### Аналіз результатів:\n",
    "За результатами пошуку оптимальних параметрів за допомогою крос-валідації найкращі параметри для алгоритму NMF визначені як:\n",
    "n_factors: 20\n",
    "n_epochs: 20\n",
    "reg_pu: 0.1\n",
    "reg_qi: 0.1\n",
    "reg_bu: 0.04\n",
    "reg_bi: 0.02\n",
    "\n",
    "Найкращий RMSE, отриманий за допомогою крос-валідації, становить 0.9909.\n",
    "Після отримання найкращих параметрів модель була навчена на повному тренувальному наборі даних, і її точність була оцінена на всьому наборі даних.\n",
    "Оцінка моделі на весь набір даних показала RMSE рівний 0.9043.\n",
    "\n",
    "#### Висновки:\n",
    "\n",
    "Отримані параметри та оцінки демонструють, що алгоритм NMF з обраною сіткою параметрів має гарні характеристики на даному наборі даних.\n",
    "Значення RMSE 0.9043 вказує на те, що середня квадратична помилка прогнозування рейтингів на весь набір даних досить низька, що може вказувати на ефективність моделі в прогнозуванні рейтингів.\n",
    "Загалом, отримані результати свідчать про те, що модель NMF з вибраними параметрами є ефективною для задачі рекомендаційного аналізу на даному датасеті."
   ]
  },
  {
   "cell_type": "code",
   "execution_count": null,
   "id": "f4e5ec76-1dcb-4b76-beed-08715fde9a24",
   "metadata": {},
   "outputs": [],
   "source": []
  }
 ],
 "metadata": {
  "kernelspec": {
   "display_name": "Python 3 (ipykernel)",
   "language": "python",
   "name": "python3"
  },
  "language_info": {
   "codemirror_mode": {
    "name": "ipython",
    "version": 3
   },
   "file_extension": ".py",
   "mimetype": "text/x-python",
   "name": "python",
   "nbconvert_exporter": "python",
   "pygments_lexer": "ipython3",
   "version": "3.11.5"
  }
 },
 "nbformat": 4,
 "nbformat_minor": 5
}
